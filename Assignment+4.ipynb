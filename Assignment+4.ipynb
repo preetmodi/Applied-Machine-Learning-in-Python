{
 "cells": [
  {
   "cell_type": "markdown",
   "metadata": {},
   "source": [
    "\n",
    "---\n",
    "\n",
    "_You are currently looking at **version 1.1** of this notebook. To download notebooks and datafiles, as well as get help on Jupyter notebooks in the Coursera platform, visit the [Jupyter Notebook FAQ](https://www.coursera.org/learn/python-machine-learning/resources/bANLa) course resource._\n",
    "\n",
    "---"
   ]
  },
  {
   "cell_type": "markdown",
   "metadata": {},
   "source": [
    "\"## Assignment 4 - Understanding and Predicting Property Maintenance Fines\n",
    "\n",
    "This assignment is based on a data challenge from the Michigan Data Science Team ([MDST](http://midas.umich.edu/mdst/)). \n",
    "\n",
    "The Michigan Data Science Team ([MDST](http://midas.umich.edu/mdst/)) and the Michigan Student Symposium for Interdisciplinary Statistical Sciences ([MSSISS](https://sites.lsa.umich.edu/mssiss/)) have partnered with the City of Detroit to help solve one of the most pressing problems facing Detroit - blight. [Blight violations](http://www.detroitmi.gov/How-Do-I/Report/Blight-Complaint-FAQs) are issued by the city to individuals who allow their properties to remain in a deteriorated condition. Every year, the city of Detroit issues millions of dollars in fines to residents and every year, many of these fines remain unpaid. Enforcing unpaid blight fines is a costly and tedious process, so the city wants to know: how can we increase blight ticket compliance?\n",
    "\n",
    "The first step in answering this question is understanding when and why a resident might fail to comply with a blight ticket. This is where predictive modeling comes in. For this assignment, your task is to predict whether a given blight ticket will be paid on time.\n",
    "\n",
    "All data for this assignment has been provided to us through the [Detroit Open Data Portal](https://data.detroitmi.gov/). **Only the data already included in your Coursera directory can be used for training the model for this assignment.** Nonetheless, we encourage you to look into data from other Detroit datasets to help inform feature creation and model selection. We recommend taking a look at the following related datasets:\n",
    "\n",
    "* [Building Permits](https://data.detroitmi.gov/Property-Parcels/Building-Permits/xw2a-a7tf)\n",
    "* [Trades Permits](https://data.detroitmi.gov/Property-Parcels/Trades-Permits/635b-dsgv)\n",
    "* [Improve Detroit: Submitted Issues](https://data.detroitmi.gov/Government/Improve-Detroit-Submitted-Issues/fwz3-w3yn)\n",
    "* [DPD: Citizen Complaints](https://data.detroitmi.gov/Public-Safety/DPD-Citizen-Complaints-2016/kahe-efs3)\n",
    "* [Parcel Map](https://data.detroitmi.gov/Property-Parcels/Parcel-Map/fxkw-udwf)\n",
    "\n",
    "___\n",
    "\n",
    "We provide you with two data files for use in training and validating your models: train.csv and test.csv. Each row in these two files corresponds to a single blight ticket, and includes information about when, why, and to whom each ticket was issued. The target variable is compliance, which is True if the ticket was paid early, on time, or within one month of the hearing data, False if the ticket was paid after the hearing date or not at all, and Null if the violator was found not responsible. Compliance, as well as a handful of other variables that will not be available at test-time, are only included in train.csv.\n",
    "\n",
    "Note: All tickets where the violators were found not responsible are not considered during evaluation. They are included in the training set as an additional source of data for visualization, and to enable unsupervised and semi-supervised approaches. However, they are not included in the test set.\n",
    "\n",
    "<br>\n",
    "\n",
    "**File descriptions** (Use only this data for training your model!)\n",
    "\n",
    "    readonly/train.csv - the training set (all tickets issued 2004-2011)\n",
    "    readonly/test.csv - the test set (all tickets issued 2012-2016)\n",
    "    readonly/addresses.csv & readonly/latlons.csv - mapping from ticket id to addresses, and from addresses to lat/lon coordinates. \n",
    "     Note: misspelled addresses may be incorrectly geolocated.\n",
    "\n",
    "<br>\n",
    "\n",
    "**Data fields**\n",
    "\n",
    "train.csv & test.csv\n",
    "\n",
    "    ticket_id - unique identifier for tickets\n",
    "    agency_name - Agency that issued the ticket\n",
    "    inspector_name - Name of inspector that issued the ticket\n",
    "    violator_name - Name of the person/organization that the ticket was issued to\n",
    "    violation_street_number, violation_street_name, violation_zip_code - Address where the violation occurred\n",
    "    mailing_address_str_number, mailing_address_str_name, city, state, zip_code, non_us_str_code, country - Mailing address of the violator\n",
    "    ticket_issued_date - Date and time the ticket was issued\n",
    "    hearing_date - Date and time the violator's hearing was scheduled\n",
    "    violation_code, violation_description - Type of violation\n",
    "    disposition - Judgment and judgement type\n",
    "    fine_amount - Violation fine amount, excluding fees\n",
    "    admin_fee - $20 fee assigned to responsible judgments\n",
    "state_fee - $10 fee assigned to responsible judgments\n",
    "    late_fee - 10% fee assigned to responsible judgments\n",
    "    discount_amount - discount applied, if any\n",
    "    clean_up_cost - DPW clean-up or graffiti removal cost\n",
    "    judgment_amount - Sum of all fines and fees\n",
    "    grafitti_status - Flag for graffiti violations\n",
    "    \n",
    "train.csv only\n",
    "\n",
    "    payment_amount - Amount paid, if any\n",
    "    payment_date - Date payment was made, if it was received\n",
    "    payment_status - Current payment status as of Feb 1 2017\n",
    "    balance_due - Fines and fees still owed\n",
    "    collection_status - Flag for payments in collections\n",
    "    compliance [target variable for prediction] \n",
    "     Null = Not responsible\n",
    "     0 = Responsible, non-compliant\n",
    "     1 = Responsible, compliant\n",
    "    compliance_detail - More information on why each ticket was marked compliant or non-compliant\n",
    "\n",
    "\n",
    "___\n",
    "\n",
    "## Evaluation\n",
    "\n",
    "Your predictions will be given as the probability that the corresponding blight ticket will be paid on time.\n",
    "\n",
    "The evaluation metric for this assignment is the Area Under the ROC Curve (AUC). \n",
    "\n",
    "Your grade will be based on the AUC score computed for your classifier. A model which with an AUROC of 0.7 passes this assignment, over 0.75 will recieve full points.\n",
    "___\n",
    "\n",
    "For this assignment, create a function that trains a model to predict blight ticket compliance in Detroit using `readonly/train.csv`. Using this model, return a series of length 61001 with the data being the probability that each corresponding ticket from `readonly/test.csv` will be paid, and the index being the ticket_id.\n",
    "\n",
    "Example:\n",
    "\n",
    "    ticket_id\n",
    "       284932    0.531842\n",
    "       285362    0.401958\n",
    "       285361    0.105928\n",
    "       285338    0.018572\n",
    "                 ...\n",
    "       376499    0.208567\n",
    "       376500    0.818759\n",
    "       369851    0.018528\n",
    "       Name: compliance, dtype: float32\n",
    "       \n",
    "### Hints\n",
    "\n",
    "* Make sure your code is working before submitting it to the autograder.\n",
    "\n",
    "* Print out your result to see whether there is anything weird (e.g., all probabilities are the same).\n",
    "\n",
    "* Generally the total runtime should be less than 10 mins. You should NOT use Neural Network related classifiers (e.g., MLPClassifier) in this question. \n",
    "\n",
    "* Try to avoid global variables. If you have other functions besides blight_model, you should move those functions inside the scope of blight_model.\n",
    "\n",
    "* Refer to the pinned threads in Week 4's discussion forum when there is something you could not figure it out."
   ]
  },
  {
   "cell_type": "code",
   "execution_count": 40,
   "metadata": {
    "collapsed": true
   },
   "outputs": [],
   "source": [
    "! cp readonly/test.csv   test.csv\n",
    "! cp readonly/latlons.csv   latlons.csv\n",
    "! cp readonly/addresses.csv   addresses.csv"
   ]
  },
  {
   "cell_type": "code",
   "execution_count": 41,
   "metadata": {
    "collapsed": false
   },
   "outputs": [],
   "source": [
    "import pandas as pd\n",
    "import numpy as np\n",
    "\n",
    "from sklearn.linear_model import LogisticRegression\n",
    "from sklearn.tree import DecisionTreeClassifier\n",
    "from sklearn.neighbors import KNeighborsClassifier\n",
    "from sklearn.preprocessing import MinMaxScaler\n",
    "from sklearn.model_selection import train_test_split, GridSearchCV\n",
    "from sklearn.ensemble import RandomForestClassifier\n",
    "from sklearn.metrics import roc_curve, confusion_matrix\n",
    "from sklearn.svm import SVC\n",
    "# import matplotlib.pyplot as plt\n",
    "\n",
    "def blight_model():\n",
    "\n",
    "    # Your code here\n",
    "    train_data = pd.read_csv('train.csv', encoding = 'ISO-8859-1')\n",
    "    test_data = pd.read_csv('test.csv', encoding = 'ISO-8859-1')\n",
    "#     address = pd.read_csv('addresses.csv')\n",
    "#     latlon = pd.read_csv('latlons.csv')\n",
    "\n",
    "#     join1 = pd.merge(address, latlon, how='inner', on='address').drop(['address'], axis = 1)\n",
    "#     test_data = pd.merge(join1, test_data, how='inner', on='ticket_id')\n",
    "\n",
    "    train_data = train_data[(train_data['compliance']==1) | (train_data['compliance']==0)]\n",
    "#     address = pd.merge(address, latlon, how='inner', on='address').drop(['address'], axis=1)\n",
    "#     train_data = pd.merge(train_data, address, how='inner', on='ticket_id')\n",
    "\n",
    "    violation_code = train_data.groupby(train_data['violation_code']).agg({'compliance':['sum','count']})\n",
    "#     violation_description = train_data.groupby(train_data['violation_description']).agg({'compliance':['sum','count']})\n",
    "    vio_code_dict = dict(violation_code.iloc[:,0]/violation_code.iloc[:,1])\n",
    "#     vio_des_dict = dict(violation_description.iloc[:,0]/violation_description.iloc[:,1])\n",
    "    train_data = train_data.replace({'violation_code':vio_code_dict})\n",
    "    test_data = test_data.replace({'violation_code':vio_code_dict})\n",
    "    for i,row in test_data.iterrows():\n",
    "        if type(row['violation_code'])!=float:\n",
    "            test_data.loc[i,'violation_code']=np.nan\n",
    "#         if type(row['violation_description'])!=float:\n",
    "#             test_data.loc[i,'violation_description'] = np.nan\n",
    "    test_data.fillna(0,inplace=True)\n",
    "\n",
    "    leaky_columns = ['payment_amount',\n",
    "                    'payment_date',\n",
    "                    'payment_status',\n",
    "                    'balance_due',\n",
    "                    'collection_status',\n",
    "                    'compliance_detail']\n",
    "    waste = ['agency_name','inspector_name','violator_name','violation_zip_code','violation_street_name','violation_street_number','mailing_address_str_number',\n",
    "             'violation_description','mailing_address_str_name','city','state','zip_code','non_us_str_code','country','ticket_issued_date','hearing_date','disposition','grafitti_status',\n",
    "             'fine_amount','state_fee','admin_fee', 'clean_up_cost']\n",
    "\n",
    "    X_train = train_data.drop(leaky_columns, axis=1).drop(waste, axis=1).dropna().set_index(['ticket_id'])\n",
    "    Y_train = X_train['compliance']\n",
    "    X_train = X_train.drop(['compliance'], axis=1)\n",
    "    X_test = test_data.drop(waste, axis=1).set_index(['ticket_id']).fillna(method='ffill')\n",
    "    ticket_id = X_test.index\n",
    "#     x_train, x_test, y_train, y_test = train_test_split(X_train, Y_train, random_state=0)\n",
    "    #     scaler = MinMaxScaler()\n",
    "    #     X_train = scaler.fit_transform(X_train)\n",
    "    #     X_test = scaler.transform(X_test)\n",
    "    # grid_params = {'n_estimators':[50,100,150], 'max_depth':[3,7,10,15,20]}\n",
    "    # grid_params = {'max_depth': [15,20,10,None]}\n",
    "    # grid_params = {'n_neighbors':[3,10,15,30]}\n",
    "    clf = RandomForestClassifier(n_estimators = 100, max_depth=30)\n",
    "\n",
    "    # clf = LogisticRegression()\n",
    "    # clf = KNeighborsClassifier(n_neighbors=30)\n",
    "    # clf = SVC().fit(x_train, y_train)\n",
    "    # clf = DecisionTreeClassifier() \n",
    "    clf.fit(X_train, Y_train)\n",
    "    # clf = GridSearchCV(clf, param_grid=grid_params, scoring='roc_auc').fit(x_train, y_train)\n",
    "    y_predict = pd.DataFrame(clf.predict_proba(X_test)[:,1], columns=['y_predict'])\n",
    "    y_predict['ticket_id'] = ticket_id\n",
    "    y_predict = y_predict.set_index(['ticket_id'])\n",
    "    \n",
    "    \n",
    "\n",
    "#     print(clf.score(x_train, y_train), clf.score(x_test, y_test))#, clf.best_params_)\n",
    "    return y_predict['y_predict']"
   ]
  },
  {
   "cell_type": "code",
   "execution_count": 42,
   "metadata": {
    "collapsed": false
   },
   "outputs": [
    {
     "name": "stderr",
     "output_type": "stream",
     "text": [
      "/opt/conda/lib/python3.6/site-packages/IPython/core/interactiveshell.py:2827: DtypeWarning: Columns (11,12,31) have mixed types. Specify dtype option on import or set low_memory=False.\n",
      "  if self.run_code(code, result):\n"
     ]
    },
    {
     "data": {
      "text/plain": [
       "ticket_id\n",
       "284932    0.189149\n",
       "285362    0.014768\n",
       "285361    0.064818\n",
       "285338    0.047496\n",
       "285346    0.083022\n",
       "285345    0.047496\n",
       "285347    0.070571\n",
       "285342    0.390260\n",
       "285530    0.014768\n",
       "284989    0.016683\n",
       "285344    0.052956\n",
       "285343    0.014768\n",
       "285340    0.014768\n",
       "285341    0.052956\n",
       "285349    0.083022\n",
       "285348    0.047496\n",
       "284991    0.016683\n",
       "285532    0.016683\n",
       "285406    0.016683\n",
       "285001    0.014852\n",
       "285006    0.000000\n",
       "285405    0.014768\n",
       "285337    0.016683\n",
       "285496    0.052956\n",
       "285497    0.047496\n",
       "285378    0.014768\n",
       "285589    0.016683\n",
       "285585    0.047496\n",
       "285501    0.064818\n",
       "285581    0.014768\n",
       "            ...   \n",
       "376367    0.042205\n",
       "376366    0.042692\n",
       "376362    0.042692\n",
       "376363    0.068835\n",
       "376365    0.042205\n",
       "376364    0.042692\n",
       "376228    0.042692\n",
       "376265    0.042692\n",
       "376286    0.323416\n",
       "376320    0.042692\n",
       "376314    0.042692\n",
       "376327    0.323416\n",
       "376385    0.323416\n",
       "376435    0.417548\n",
       "376370    0.323416\n",
       "376434    0.070571\n",
       "376459    0.063409\n",
       "376478    0.000000\n",
       "376473    0.042692\n",
       "376484    0.016256\n",
       "376482    0.016701\n",
       "376480    0.005827\n",
       "376479    0.005827\n",
       "376481    0.005827\n",
       "376483    0.018953\n",
       "376496    0.000000\n",
       "376497    0.000000\n",
       "376499    0.083022\n",
       "376500    0.083022\n",
       "369851    0.246121\n",
       "Name: y_predict, dtype: float64"
      ]
     },
     "execution_count": 42,
     "metadata": {},
     "output_type": "execute_result"
    }
   ],
   "source": [
    "blight_model()\n"
   ]
  },
  {
   "cell_type": "code",
   "execution_count": 43,
   "metadata": {
    "collapsed": false
   },
   "outputs": [],
   "source": [
    "# pd.Series(clf.predict(X_test)).value_counts()"
   ]
  },
  {
   "cell_type": "code",
   "execution_count": 44,
   "metadata": {
    "collapsed": false
   },
   "outputs": [],
   "source": [
    "# confusion_matrix(Y_train, clf.predict(X_train))\n"
   ]
  },
  {
   "cell_type": "code",
   "execution_count": 45,
   "metadata": {
    "collapsed": false
   },
   "outputs": [],
   "source": [
    "# import matplotlib.pyplot as plt\n",
    "# plt.figure()\n",
    "# plt.plot(fpr, tpr)\n",
    "# plt.show()\n",
    "# test_data['disposition'].value_counts()"
   ]
  },
  {
   "cell_type": "code",
   "execution_count": 46,
   "metadata": {
    "collapsed": false
   },
   "outputs": [],
   "source": [
    "# train_data['disposition'].value_counts()"
   ]
  },
  {
   "cell_type": "code",
   "execution_count": 47,
   "metadata": {
    "collapsed": false
   },
   "outputs": [],
   "source": [
    "# from adspy_shared_utilities import plot_class_regions_for_classifier\n",
    "# plot_class_regions_for_classifier(clf,X_train, Y_train.astype(int))"
   ]
  },
  {
   "cell_type": "code",
   "execution_count": 48,
   "metadata": {
    "collapsed": false
   },
   "outputs": [],
   "source": [
    "# X_train"
   ]
  },
  {
   "cell_type": "code",
   "execution_count": null,
   "metadata": {
    "collapsed": true
   },
   "outputs": [],
   "source": []
  },
  {
   "cell_type": "code",
   "execution_count": null,
   "metadata": {
    "collapsed": true
   },
   "outputs": [],
   "source": []
  }
 ],
 "metadata": {
  "coursera": {
   "course_slug": "python-machine-learning",
   "graded_item_id": "nNS8l",
   "launcher_item_id": "yWWk7",
   "part_id": "w8BSS"
  },
  "kernelspec": {
   "display_name": "Python 3",
   "language": "python",
   "name": "python3"
  },
  "language_info": {
   "codemirror_mode": {
    "name": "ipython",
    "version": 3
   },
   "file_extension": ".py",
   "mimetype": "text/x-python",
   "name": "python",
   "nbconvert_exporter": "python",
   "pygments_lexer": "ipython3",
   "version": "3.6.2"
  }
 },
 "nbformat": 4,
 "nbformat_minor": 2
}
